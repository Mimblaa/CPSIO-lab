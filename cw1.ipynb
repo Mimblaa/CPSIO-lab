{
 "cells": [
  {
   "cell_type": "markdown",
   "id": "ff9f5cfc-dada-449c-aad2-69238d4aa753",
   "metadata": {
    "tags": []
   },
   "source": [
    "# Cyfrowe przetwarzanie sygnałów i obrazów - Laboratorium 1 \n",
    "##### Joanna Orzeł, 259064 <br>Tomasz Michalski, 254040\n",
    "\n",
    "###### Zaimportowanie bibliotek potrzebnych podczas realizacji ćwiczenia"
   ]
  },
  {
   "cell_type": "code",
   "execution_count": null,
   "id": "7d40e6ab-121a-41fa-ada7-338996368945",
   "metadata": {},
   "outputs": [],
   "source": [
    "import pandas as pd\n",
    "import matplotlib.pyplot as plt\n",
    "import numpy as np\n",
    "import matplotlib as mpl\n",
    "from scipy import signal\n"
   ]
  },
  {
   "cell_type": "markdown",
   "id": "b07ac24c-0a61-4141-a961-ae1f8f229a85",
   "metadata": {
    "tags": []
   },
   "source": [
    "### Ćwiczenie 1. \n",
    "Napisz skrypt w Pythonie/Matlabie umożliwiający wczytywanie i wizualizację badanych sygnałów. Program powinien umożliwiać obserwowanie wycinka sygnału dla zadanego przedziału czasowego, skalowanie osi wykresów i ich opis oraz zapis dowolnego wycinka sygnału do pliku o podanej nazwie"
   ]
  },
  {
   "cell_type": "markdown",
   "id": "00a6195a-80b0-422b-852e-f73aaec8dd9f",
   "metadata": {
    "tags": []
   },
   "source": [
    "#### ekg1.txt\n",
    "12 kolumn odpowiadających odprowadzeniom\n",
    "fs = 1000 Hz\n",
    "\n",
    "Początkowo dane zostały odczytane z pliku tekstowego \"ekg1.txt\" za pomocą komendy ```pd.read_csv``` i zapisane do zmiennej ```ekg1```"
   ]
  },
  {
   "cell_type": "code",
   "execution_count": 11,
   "id": "5beca2af-d1ad-492b-a93b-b3f085477617",
   "metadata": {
    "tags": []
   },
   "outputs": [
    {
     "data": {
      "text/html": [
       "<div>\n",
       "<style scoped>\n",
       "    .dataframe tbody tr th:only-of-type {\n",
       "        vertical-align: middle;\n",
       "    }\n",
       "\n",
       "    .dataframe tbody tr th {\n",
       "        vertical-align: top;\n",
       "    }\n",
       "\n",
       "    .dataframe thead th {\n",
       "        text-align: right;\n",
       "    }\n",
       "</style>\n",
       "<table border=\"1\" class=\"dataframe\">\n",
       "  <thead>\n",
       "    <tr style=\"text-align: right;\">\n",
       "      <th></th>\n",
       "      <th>k1</th>\n",
       "      <th>k2</th>\n",
       "      <th>k3</th>\n",
       "      <th>k4</th>\n",
       "      <th>k5</th>\n",
       "      <th>k6</th>\n",
       "      <th>k7</th>\n",
       "      <th>k8</th>\n",
       "      <th>k9</th>\n",
       "      <th>k10</th>\n",
       "      <th>k11</th>\n",
       "      <th>k12</th>\n",
       "    </tr>\n",
       "    <tr>\n",
       "      <th>t</th>\n",
       "      <th></th>\n",
       "      <th></th>\n",
       "      <th></th>\n",
       "      <th></th>\n",
       "      <th></th>\n",
       "      <th></th>\n",
       "      <th></th>\n",
       "      <th></th>\n",
       "      <th></th>\n",
       "      <th></th>\n",
       "      <th></th>\n",
       "      <th></th>\n",
       "    </tr>\n",
       "  </thead>\n",
       "  <tbody>\n",
       "    <tr>\n",
       "      <th>0.000</th>\n",
       "      <td>106</td>\n",
       "      <td>335</td>\n",
       "      <td>228</td>\n",
       "      <td>-227</td>\n",
       "      <td>-59</td>\n",
       "      <td>291</td>\n",
       "      <td>-392</td>\n",
       "      <td>-45</td>\n",
       "      <td>443</td>\n",
       "      <td>372</td>\n",
       "      <td>908</td>\n",
       "      <td>395</td>\n",
       "    </tr>\n",
       "    <tr>\n",
       "      <th>0.001</th>\n",
       "      <td>106</td>\n",
       "      <td>335</td>\n",
       "      <td>228</td>\n",
       "      <td>-227</td>\n",
       "      <td>-59</td>\n",
       "      <td>291</td>\n",
       "      <td>-392</td>\n",
       "      <td>-45</td>\n",
       "      <td>443</td>\n",
       "      <td>372</td>\n",
       "      <td>908</td>\n",
       "      <td>395</td>\n",
       "    </tr>\n",
       "    <tr>\n",
       "      <th>0.002</th>\n",
       "      <td>106</td>\n",
       "      <td>325</td>\n",
       "      <td>219</td>\n",
       "      <td>-219</td>\n",
       "      <td>-60</td>\n",
       "      <td>284</td>\n",
       "      <td>492</td>\n",
       "      <td>837</td>\n",
       "      <td>239</td>\n",
       "      <td>372</td>\n",
       "      <td>908</td>\n",
       "      <td>405</td>\n",
       "    </tr>\n",
       "    <tr>\n",
       "      <th>0.003</th>\n",
       "      <td>86</td>\n",
       "      <td>306</td>\n",
       "      <td>219</td>\n",
       "      <td>-214</td>\n",
       "      <td>-55</td>\n",
       "      <td>274</td>\n",
       "      <td>487</td>\n",
       "      <td>832</td>\n",
       "      <td>240</td>\n",
       "      <td>404</td>\n",
       "      <td>179</td>\n",
       "      <td>-63</td>\n",
       "    </tr>\n",
       "    <tr>\n",
       "      <th>0.004</th>\n",
       "      <td>96</td>\n",
       "      <td>320</td>\n",
       "      <td>224</td>\n",
       "      <td>-195</td>\n",
       "      <td>-65</td>\n",
       "      <td>264</td>\n",
       "      <td>492</td>\n",
       "      <td>842</td>\n",
       "      <td>244</td>\n",
       "      <td>404</td>\n",
       "      <td>174</td>\n",
       "      <td>-62</td>\n",
       "    </tr>\n",
       "  </tbody>\n",
       "</table>\n",
       "</div>"
      ],
      "text/plain": [
       "        k1   k2   k3   k4  k5   k6   k7   k8   k9  k10  k11  k12\n",
       "t                                                               \n",
       "0.000  106  335  228 -227 -59  291 -392  -45  443  372  908  395\n",
       "0.001  106  335  228 -227 -59  291 -392  -45  443  372  908  395\n",
       "0.002  106  325  219 -219 -60  284  492  837  239  372  908  405\n",
       "0.003   86  306  219 -214 -55  274  487  832  240  404  179  -63\n",
       "0.004   96  320  224 -195 -65  264  492  842  244  404  174  -62"
      ]
     },
     "execution_count": 11,
     "metadata": {},
     "output_type": "execute_result"
    }
   ],
   "source": [
    "import pandas as pd\n",
    "import matplotlib.pyplot as plt\n",
    "\n",
    "ekg1 = pd.read_csv('ekg1.txt', \n",
    "                  names = ['k1', 'k2', 'k3', 'k4', 'k5', 'k6', 'k7', 'k8', 'k9', 'k10', 'k11', 'k12'], \n",
    "                  sep= ' ') \n",
    "fs_ekg1 = 1000 # częstotliwość sygnału [Hz]\n",
    "t_ekg1 = (ekg1.shape[0] - 1) / fs_ekg1 # czas trwania sygnału, t = f/T [s] \n",
    "ekg1['t'] = ekg1.index/fs_ekg1\n",
    "ekg1 = ekg1.set_index('t')\n",
    "ekg1.head()"
   ]
  },
  {
   "cell_type": "code",
   "execution_count": null,
   "id": "59eac7a1-e474-4a70-8973-b89962f385a0",
   "metadata": {},
   "outputs": [],
   "source": []
  }
 ],
 "metadata": {
  "kernelspec": {
   "display_name": "Python 3 (ipykernel)",
   "language": "python",
   "name": "python3"
  },
  "language_info": {
   "codemirror_mode": {
    "name": "ipython",
    "version": 3
   },
   "file_extension": ".py",
   "mimetype": "text/x-python",
   "name": "python",
   "nbconvert_exporter": "python",
   "pygments_lexer": "ipython3",
   "version": "3.9.12"
  }
 },
 "nbformat": 4,
 "nbformat_minor": 5
}
